{
 "cells": [
  {
   "cell_type": "markdown",
   "metadata": {},
   "source": [
    "# Imports"
   ]
  },
  {
   "cell_type": "code",
   "execution_count": 4,
   "metadata": {},
   "outputs": [],
   "source": [
    "import cv2\n",
    "import glob\n",
    "import random\n",
    "import numpy as np\n",
    "from IPython.core.debugger import set_trace\n",
    "import os\n",
    "from PIL import Image\n",
    "from scipy.misc import imread\n",
    "from pathlib import Path\n",
    "import matplotlib.pyplot as plt\n",
    "%matplotlib notebook\n",
    "from sklearn import svm, metrics, datasets\n",
    "from sklearn.utils import Bunch\n",
    "from sklearn.model_selection import GridSearchCV, train_test_split\n",
    "\n",
    "from skimage.io import imread\n",
    "from skimage.transform import resize\n",
    "from sklearn.model_selection import cross_val_score"
   ]
  },
  {
   "cell_type": "markdown",
   "metadata": {},
   "source": [
    "# Data handling block"
   ]
  },
  {
   "cell_type": "code",
   "execution_count": 5,
   "metadata": {},
   "outputs": [
    {
     "name": "stdout",
     "output_type": "stream",
     "text": [
      "Data path:  C:/Users/Cerberus/Documents/ML/Project/dataset299\n",
      "Image size:  299\n"
     ]
    }
   ],
   "source": [
    "IMG_SIZE = 299\n",
    "DATA_PATH = \"C:/Users/Cerberus/Documents/ML/Project/dataset299\"\n",
    "\n",
    "print(\"Data path: \",DATA_PATH)\n",
    "print(\"Image size: \",IMG_SIZE)\n",
    "\n",
    "emotions = [\"anger\", \"contempt\", \"disgust\", \"fear\", \"happy\", \"sadness\", \"surprise\"] #Emotion list\n",
    "\n",
    "#Define function to get file list, randomly shuffle it and split 80/20\n",
    "def get_files(emotion):\n",
    "    files = glob.glob(\"%s//%s//*\" %(DATA_PATH,emotion))\n",
    "    random.shuffle(files)\n",
    "    training = files[:int(len(files)*0.8)] #get first 80% of file list\n",
    "    prediction = files[-int(len(files)*0.2):] #get last 20% of file list\n",
    "    return training, prediction\n",
    "\n",
    "#Pre-processing the images, including conversion to greyscale since some images were in color\n",
    "def make_flatsets():\n",
    "    training_data = []\n",
    "    training_labels = []\n",
    "    prediction_data = []\n",
    "    prediction_labels = []\n",
    "    for emotion in emotions:\n",
    "        training, prediction = get_files(emotion)\n",
    "        #Append data to training and prediction list, and generate labels 0-7\n",
    "        for item in training:\n",
    "            image = cv2.imread(item) #open image\n",
    "            gray = cv2.cvtColor(image, cv2.COLOR_BGR2GRAY) #convert to grayscale\n",
    "            training_data.append(gray) \n",
    "            training_labels.append(emotions.index(emotion))\n",
    "\n",
    "        for item in prediction: #repeat above process for prediction set\n",
    "            image = cv2.imread(item) #open image\n",
    "            gray = cv2.cvtColor(image, cv2.COLOR_BGR2GRAY) #convert to grayscale\n",
    "            prediction_data.append(gray)\n",
    "            prediction_labels.append(emotions.index(emotion))\n",
    "\n",
    "    return training_data, training_labels, prediction_data, prediction_labels\n",
    "\n",
    "\n",
    "def print_cm(cm, labels, hide_zeroes=False, hide_diagonal=False, hide_threshold=None):\n",
    "    \"\"\"pretty print for confusion matrixes\"\"\"\n",
    "    columnwidth = max([len(x) for x in labels] + [5])  # 5 is value length\n",
    "    empty_cell = \" \" * columnwidth\n",
    "    \n",
    "    # Begin CHANGES\n",
    "    fst_empty_cell = (columnwidth-3)//2 * \" \" + \"t/p\" + (columnwidth-3)//2 * \" \"\n",
    "    \n",
    "    if len(fst_empty_cell) < len(empty_cell):\n",
    "        fst_empty_cell = \" \" * (len(empty_cell) - len(fst_empty_cell)) + fst_empty_cell\n",
    "    # Print header\n",
    "    print(\"    \" + fst_empty_cell, end=\" \")\n",
    "    # End CHANGES\n",
    "    \n",
    "    for label in labels:\n",
    "        print(\"%{0}s\".format(columnwidth) % label, end=\" \")\n",
    "        \n",
    "    print()\n",
    "    # Print rows\n",
    "    for i, label1 in enumerate(labels):\n",
    "        print(\"    %{0}s\".format(columnwidth) % label1, end=\" \")\n",
    "        for j in range(len(labels)):\n",
    "            cell = \"%{0}i\".format(columnwidth) % cm[i, j]\n",
    "            if hide_zeroes:\n",
    "                cell = cell if float(cm[i, j]) != 0 else empty_cell\n",
    "            if hide_diagonal:\n",
    "                cell = cell if i != j else empty_cell\n",
    "            if hide_threshold:\n",
    "                cell = cell if cm[i, j] > hide_threshold else empty_cell\n",
    "            print(cell, end=\" \")\n",
    "        print()"
   ]
  },
  {
   "cell_type": "markdown",
   "metadata": {},
   "source": [
    "# Data loading block (299x299)"
   ]
  },
  {
   "cell_type": "code",
   "execution_count": 3,
   "metadata": {},
   "outputs": [],
   "source": [
    "training_data, training_labels, prediction_data, prediction_labels = make_flatsets()\n",
    "training_flatData = []\n",
    "for i in range(len(training_data)):\n",
    "    instance =  training_data[i].flatten()\n",
    "    training_flatData.append(instance)\n",
    "    \n",
    "prediction_flatData = []\n",
    "for i in range(len(prediction_data)):\n",
    "    instance =  prediction_data[i].flatten()\n",
    "    prediction_flatData.append(instance)\n",
    "    "
   ]
  },
  {
   "cell_type": "markdown",
   "metadata": {},
   "source": [
    "# Grid search and training"
   ]
  },
  {
   "cell_type": "code",
   "execution_count": 9,
   "metadata": {},
   "outputs": [
    {
     "name": "stderr",
     "output_type": "stream",
     "text": [
      "C:\\Users\\Cerberus\\Anaconda3\\lib\\site-packages\\sklearn\\model_selection\\_split.py:1943: FutureWarning: You should specify a value for 'cv' instead of relying on the default value. The default value will change from 3 to 5 in version 0.22.\n",
      "  warnings.warn(CV_WARNING, FutureWarning)\n",
      "[Parallel(n_jobs=-1)]: Using backend LokyBackend with 8 concurrent workers.\n"
     ]
    },
    {
     "name": "stdout",
     "output_type": "stream",
     "text": [
      "Fitting 3 folds for each of 24 candidates, totalling 72 fits\n"
     ]
    },
    {
     "name": "stderr",
     "output_type": "stream",
     "text": [
      "[Parallel(n_jobs=-1)]: Done   2 tasks      | elapsed:   29.5s\n",
      "[Parallel(n_jobs=-1)]: Done  56 tasks      | elapsed:  4.3min\n",
      "[Parallel(n_jobs=-1)]: Done  72 out of  72 | elapsed:  5.3min remaining:    0.0s\n",
      "[Parallel(n_jobs=-1)]: Done  72 out of  72 | elapsed:  5.3min finished\n",
      "C:\\Users\\Cerberus\\Anaconda3\\lib\\site-packages\\sklearn\\model_selection\\_search.py:841: DeprecationWarning: The default of the `iid` parameter will change from True to False in version 0.22 and will be removed in 0.24. This will change numeric results when test-set sizes are unequal.\n",
      "  DeprecationWarning)\n"
     ]
    },
    {
     "data": {
      "text/plain": [
       "GridSearchCV(cv='warn', error_score='raise-deprecating',\n",
       "       estimator=SVC(C=1.0, cache_size=200, class_weight=None, coef0=0.0,\n",
       "  decision_function_shape='ovr', degree=3, gamma='auto_deprecated',\n",
       "  kernel='rbf', max_iter=-1, probability=False, random_state=None,\n",
       "  shrinking=True, tol=0.001, verbose=False),\n",
       "       fit_params=None, iid='warn', n_jobs=-1,\n",
       "       param_grid={'C': [0.01, 0.1, 1, 10, 100, 1000], 'kernel': ('linear', 'poly', 'rbf', 'sigmoid')},\n",
       "       pre_dispatch='2*n_jobs', refit=True, return_train_score='warn',\n",
       "       scoring='accuracy', verbose=5)"
      ]
     },
     "execution_count": 9,
     "metadata": {},
     "output_type": "execute_result"
    }
   ],
   "source": [
    "# Set the parameters by cross-validation\n",
    "# param_grid = [\n",
    "#   {'C': [1, 10, 100, 1000], 'kernel': ['linear']},\n",
    "#   {'C': [1, 10, 100, 1000], 'gamma': [0.001, 0.0001], 'kernel': ['rbf']},\n",
    "#  ]\n",
    "param_grid = {'C' : [0.01, 0.1, 1, 10, 100, 1000], 'kernel': ('linear', 'poly', 'rbf', 'sigmoid')}\n",
    "svc = svm.SVC()\n",
    "# clf = GridSearchCV(svc, param_grid)\n",
    "clf = GridSearchCV(estimator=svc, param_grid=param_grid, scoring='accuracy', n_jobs=-1, verbose=5)\n",
    "clf.fit(training_flatData, training_labels)"
   ]
  },
  {
   "cell_type": "markdown",
   "metadata": {},
   "source": [
    "# Best parameters"
   ]
  },
  {
   "cell_type": "code",
   "execution_count": 16,
   "metadata": {},
   "outputs": [
    {
     "name": "stdout",
     "output_type": "stream",
     "text": [
      "Best parameters set found on development set:\n",
      "\n",
      "{'C': 0.01, 'kernel': 'linear'}\n"
     ]
    }
   ],
   "source": [
    "print(\"Best parameters set found on development set:\")\n",
    "print()\n",
    "print(clf.best_params_)"
   ]
  },
  {
   "cell_type": "markdown",
   "metadata": {},
   "source": [
    "# Results best classifier"
   ]
  },
  {
   "cell_type": "code",
   "execution_count": 15,
   "metadata": {},
   "outputs": [
    {
     "name": "stdout",
     "output_type": "stream",
     "text": [
      "Confusion matrix\n",
      "       t/p      anger contempt  disgust     fear    happy  sadness surprise \n",
      "       anger        8        0        1        0        0        0        0 \n",
      "    contempt        0        1        0        1        0        1        0 \n",
      "     disgust        1        0       10        0        0        0        0 \n",
      "        fear        0        0        1        3        1        0        0 \n",
      "       happy        0        0        0        0       13        0        0 \n",
      "     sadness        1        0        0        2        0        2        0 \n",
      "    surprise        1        0        0        1        0        1       13 \n",
      "\n",
      "Accuracy: 0.81\n",
      "-----------------------------------------------\n",
      "Classification report for - \n",
      "SVC(C=0.01, cache_size=200, class_weight=None, coef0=0.0,\n",
      "  decision_function_shape='ovr', degree=3, gamma='auto_deprecated',\n",
      "  kernel='linear', max_iter=-1, probability=False, random_state=None,\n",
      "  shrinking=True, tol=0.001, verbose=False):\n",
      "              precision    recall  f1-score   support\n",
      "\n",
      "           0       0.73      0.89      0.80         9\n",
      "           1       1.00      0.33      0.50         3\n",
      "           2       0.83      0.91      0.87        11\n",
      "           3       0.43      0.60      0.50         5\n",
      "           4       0.93      1.00      0.96        13\n",
      "           5       0.50      0.40      0.44         5\n",
      "           6       1.00      0.81      0.90        16\n",
      "\n",
      "   micro avg       0.81      0.81      0.81        62\n",
      "   macro avg       0.77      0.71      0.71        62\n",
      "weighted avg       0.83      0.81      0.80        62\n",
      "\n",
      "\n"
     ]
    }
   ],
   "source": [
    "#Enter best parameter here\n",
    "clf_Best = svm.SVC(kernel='linear', C=0.01)\n",
    "clf_Best.fit(training_flatData, training_labels)\n",
    "    \n",
    "y_pred = clf_Best.predict(prediction_flatData)\n",
    "\n",
    "print(\"Confusion matrix\")\n",
    "cm = metrics.confusion_matrix(prediction_labels, y_pred)\n",
    "print_cm(cm,emotions)\n",
    "\n",
    "print()\n",
    "print(\"Accuracy: %0.2f\" % (metrics.accuracy_score(prediction_labels, y_pred)))\n",
    "print(\"-----------------------------------------------\")\n",
    "\n",
    "print(\"Classification report for - \\n{}:\\n{}\\n\".format(\n",
    "    clf_Best, metrics.classification_report(prediction_labels, y_pred)))"
   ]
  },
  {
   "cell_type": "markdown",
   "metadata": {},
   "source": [
    "# Cross Validation (299x299)"
   ]
  },
  {
   "cell_type": "code",
   "execution_count": 12,
   "metadata": {},
   "outputs": [
    {
     "name": "stdout",
     "output_type": "stream",
     "text": [
      "Accuracy: 0.80 (+/- 0.11)\n"
     ]
    }
   ],
   "source": [
    "scores_Best = cross_val_score(clf_Best, training_flatData, training_labels, cv=5)\n",
    "print(\"Accuracy: %0.2f (+/- %0.2f)\" % (scores_Best.mean(), scores_Best.std() * 2)) "
   ]
  },
  {
   "cell_type": "markdown",
   "metadata": {},
   "source": [
    "# SVM (48x48)"
   ]
  },
  {
   "cell_type": "code",
   "execution_count": 15,
   "metadata": {},
   "outputs": [
    {
     "name": "stdout",
     "output_type": "stream",
     "text": [
      "Data path:  C:/Users/Cerberus/Documents/ML/Project/dataset48\n",
      "Image size:  48\n",
      "Fitting 3 folds for each of 24 candidates, totalling 72 fits\n"
     ]
    },
    {
     "name": "stderr",
     "output_type": "stream",
     "text": [
      "C:\\Users\\Cerberus\\Anaconda3\\lib\\site-packages\\sklearn\\model_selection\\_split.py:1943: FutureWarning: You should specify a value for 'cv' instead of relying on the default value. The default value will change from 3 to 5 in version 0.22.\n",
      "  warnings.warn(CV_WARNING, FutureWarning)\n",
      "[Parallel(n_jobs=-1)]: Using backend LokyBackend with 8 concurrent workers.\n",
      "[Parallel(n_jobs=-1)]: Done   2 tasks      | elapsed:    0.2s\n",
      "[Parallel(n_jobs=-1)]: Done  56 tasks      | elapsed:    2.8s\n",
      "[Parallel(n_jobs=-1)]: Done  72 out of  72 | elapsed:    3.4s remaining:    0.0s\n",
      "[Parallel(n_jobs=-1)]: Done  72 out of  72 | elapsed:    3.4s finished\n",
      "C:\\Users\\Cerberus\\Anaconda3\\lib\\site-packages\\sklearn\\model_selection\\_search.py:841: DeprecationWarning: The default of the `iid` parameter will change from True to False in version 0.22 and will be removed in 0.24. This will change numeric results when test-set sizes are unequal.\n",
      "  DeprecationWarning)\n"
     ]
    },
    {
     "data": {
      "text/plain": [
       "GridSearchCV(cv='warn', error_score='raise-deprecating',\n",
       "       estimator=SVC(C=1.0, cache_size=200, class_weight=None, coef0=0.0,\n",
       "  decision_function_shape='ovr', degree=3, gamma='auto_deprecated',\n",
       "  kernel='rbf', max_iter=-1, probability=False, random_state=None,\n",
       "  shrinking=True, tol=0.001, verbose=False),\n",
       "       fit_params=None, iid='warn', n_jobs=-1,\n",
       "       param_grid={'C': [0.01, 0.1, 1, 10, 100, 1000], 'kernel': ('linear', 'poly', 'rbf', 'sigmoid')},\n",
       "       pre_dispatch='2*n_jobs', refit=True, return_train_score='warn',\n",
       "       scoring='accuracy', verbose=5)"
      ]
     },
     "execution_count": 15,
     "metadata": {},
     "output_type": "execute_result"
    }
   ],
   "source": [
    "IMG_SIZE = 48\n",
    "DATA_PATH = \"C:/Users/Cerberus/Documents/ML/Project/dataset48\"\n",
    "\n",
    "print(\"Data path: \",DATA_PATH)\n",
    "print(\"Image size: \",IMG_SIZE)\n",
    "\n",
    "training_data, training_labels, prediction_data, prediction_labels = make_flatsets()\n",
    "training_flatData = []\n",
    "for i in range(len(training_data)):\n",
    "    instance =  training_data[i].flatten()\n",
    "    training_flatData.append(instance)\n",
    "    \n",
    "prediction_flatData = []\n",
    "for i in range(len(prediction_data)):\n",
    "    instance =  prediction_data[i].flatten()\n",
    "    prediction_flatData.append(instance)\n",
    "    \n",
    "param_grid = {'C' : [0.01, 0.1, 1, 10, 100, 1000], 'kernel': ('linear', 'poly', 'rbf', 'sigmoid')}\n",
    "svc = svm.SVC()\n",
    "# clf = GridSearchCV(svc, param_grid)\n",
    "clf = GridSearchCV(estimator=svc, param_grid=param_grid, scoring='accuracy', n_jobs=-1, verbose=5)\n",
    "clf.fit(training_flatData, training_labels)"
   ]
  },
  {
   "cell_type": "code",
   "execution_count": 16,
   "metadata": {},
   "outputs": [
    {
     "name": "stdout",
     "output_type": "stream",
     "text": [
      "Best parameters set found on development set (48x48):\n",
      "\n",
      "{'C': 0.01, 'kernel': 'linear'}\n",
      "Confusion matrix (48x48)\n",
      "       t/p      anger contempt  disgust     fear    happy  sadness surprise \n",
      "       anger        8        0        0        0        0        1        0 \n",
      "    contempt        0        2        0        0        0        1        0 \n",
      "     disgust        1        0        9        1        0        0        0 \n",
      "        fear        0        0        0        3        0        1        1 \n",
      "       happy        0        0        1        0       12        0        0 \n",
      "     sadness        3        1        0        0        0        1        0 \n",
      "    surprise        0        0        0        0        0        0       16 \n",
      "\n",
      "Accuracy (48x48) : 0.82\n",
      "-----------------------------------------------\n",
      "Classification report for (48x48) - \n",
      "SVC(C=0.01, cache_size=200, class_weight=None, coef0=0.0,\n",
      "  decision_function_shape='ovr', degree=3, gamma='auto_deprecated',\n",
      "  kernel='linear', max_iter=-1, probability=False, random_state=None,\n",
      "  shrinking=True, tol=0.001, verbose=False):\n",
      "              precision    recall  f1-score   support\n",
      "\n",
      "           0       0.67      0.89      0.76         9\n",
      "           1       0.67      0.67      0.67         3\n",
      "           2       0.90      0.82      0.86        11\n",
      "           3       0.75      0.60      0.67         5\n",
      "           4       1.00      0.92      0.96        13\n",
      "           5       0.25      0.20      0.22         5\n",
      "           6       0.94      1.00      0.97        16\n",
      "\n",
      "   micro avg       0.82      0.82      0.82        62\n",
      "   macro avg       0.74      0.73      0.73        62\n",
      "weighted avg       0.82      0.82      0.82        62\n",
      "\n",
      "\n"
     ]
    }
   ],
   "source": [
    "print(\"Best parameters set found on development set (48x48):\")\n",
    "print()\n",
    "print(clf.best_params_)\n",
    "\n",
    "#Enter best parameter here\n",
    "clf_Best = svm.SVC(kernel='linear', C=0.01)\n",
    "clf_Best.fit(training_flatData, training_labels)\n",
    "    \n",
    "y_pred = clf_Best.predict(prediction_flatData)\n",
    "\n",
    "print(\"Confusion matrix (48x48)\")\n",
    "cm = metrics.confusion_matrix(prediction_labels, y_pred)\n",
    "print_cm(cm,emotions)\n",
    "\n",
    "print()\n",
    "print(\"Accuracy (48x48) : %0.2f\" % (metrics.accuracy_score(prediction_labels, y_pred)))\n",
    "print(\"-----------------------------------------------\")\n",
    "\n",
    "print(\"Classification report for (48x48) - \\n{}:\\n{}\\n\".format(\n",
    "    clf_Best, metrics.classification_report(prediction_labels, y_pred)))"
   ]
  },
  {
   "cell_type": "markdown",
   "metadata": {},
   "source": [
    "# Cross Validation (48x48)"
   ]
  },
  {
   "cell_type": "code",
   "execution_count": 17,
   "metadata": {},
   "outputs": [
    {
     "name": "stdout",
     "output_type": "stream",
     "text": [
      "Accuracy: 0.73 (+/- 0.13)\n"
     ]
    }
   ],
   "source": [
    "scores_Best = cross_val_score(clf_Best, training_flatData, training_labels, cv=5)\n",
    "print(\"Accuracy: %0.2f (+/- %0.2f)\" % (scores_Best.mean(), scores_Best.std() * 2)) "
   ]
  },
  {
   "cell_type": "code",
   "execution_count": null,
   "metadata": {},
   "outputs": [],
   "source": []
  }
 ],
 "metadata": {
  "kernelspec": {
   "display_name": "Python 3",
   "language": "python",
   "name": "python3"
  },
  "language_info": {
   "codemirror_mode": {
    "name": "ipython",
    "version": 3
   },
   "file_extension": ".py",
   "mimetype": "text/x-python",
   "name": "python",
   "nbconvert_exporter": "python",
   "pygments_lexer": "ipython3",
   "version": "3.6.6"
  }
 },
 "nbformat": 4,
 "nbformat_minor": 2
}
